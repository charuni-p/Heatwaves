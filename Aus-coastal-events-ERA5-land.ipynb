{
 "cells": [
  {
   "cell_type": "markdown",
   "metadata": {},
   "source": [
    "# Statistical analysis between coastal and adjacent ocean cells around Australia"
   ]
  },
  {
   "cell_type": "markdown",
   "metadata": {},
   "source": [
    "## Importing packages"
   ]
  },
  {
   "cell_type": "code",
   "execution_count": 1,
   "metadata": {},
   "outputs": [],
   "source": [
    "from datetime import date \n",
    "from datetime import datetime\n",
    "import glob\n",
    "import matplotlib.pyplot as plt\n",
    "import numpy as np\n",
    "from scipy import signal\n",
    "import scipy.ndimage as ndimage\n",
    "from scipy.ndimage import convolve\n",
    "from scipy.ndimage.measurements import label, find_objects\n",
    "import xarray as xr"
   ]
  },
  {
   "cell_type": "markdown",
   "metadata": {},
   "source": [
    "## Opening the mask file"
   ]
  },
  {
   "cell_type": "code",
   "execution_count": 2,
   "metadata": {},
   "outputs": [],
   "source": [
    "# static_era5.nc is a land sea mask \n",
    "\n",
    "ds = xr.open_dataset('/g/data/e14/cp3790/Charuni/Heatwaves/static_era5.nc').sel(longitude=slice(113.0, 154.0), latitude=slice(-10.0, -44.0))\n",
    "mask = xr.where(ds.lsm==0, 0, 1)"
   ]
  },
  {
   "cell_type": "markdown",
   "metadata": {},
   "source": [
    "## Finding coastal cells\n",
    "Using scipy.ndimage convolve"
   ]
  },
  {
   "cell_type": "markdown",
   "metadata": {},
   "source": [
    "k is an array of weights, with the same number of dimensions as input"
   ]
  },
  {
   "cell_type": "code",
   "execution_count": 3,
   "metadata": {},
   "outputs": [],
   "source": [
    "k =([[[1, 1, 1],\n",
    "    [1, 0, 1],\n",
    "    [1, 1, 1]]])"
   ]
  },
  {
   "cell_type": "markdown",
   "metadata": {},
   "source": [
    "input array 'mask' is convolved with 'k', mode='constant' which ensures that the input is extended by filling all values beyond the edge with the same constant value"
   ]
  },
  {
   "cell_type": "code",
   "execution_count": 4,
   "metadata": {},
   "outputs": [],
   "source": [
    "c = convolve(mask, k, mode='constant')"
   ]
  },
  {
   "cell_type": "markdown",
   "metadata": {},
   "source": [
    "coastal array is 1 when the mask==1 and the sum of neighbouring cells is < 8 (which means at least one cell is neighbouring a 0 (or sea grid cell)"
   ]
  },
  {
   "cell_type": "code",
   "execution_count": 5,
   "metadata": {},
   "outputs": [],
   "source": [
    "coastal = np.logical_and(mask == 1, c < 8)"
   ]
  },
  {
   "cell_type": "code",
   "execution_count": 19,
   "metadata": {},
   "outputs": [],
   "source": [
    "def fix(ds):\n",
    "    # This function makes the original data array repeatable so that it matches with the shape of the other data array.\n",
    "\n",
    "    trial = ds\n",
    "    i = 0\n",
    "    while i < 13514:  # <-- Here, 13514 corresponds to the timesteps in land dataset \n",
    "        trial = xr.concat([trial, ds], 'time')\n",
    "        i+=1\n",
    "    trial = trial.isel(time = slice(0,13514))\n",
    "    # to specify the dates/time \n",
    "    trial.coords['time'] = np.arange(date(1982,1,1).toordinal(),date(2018,12,31).toordinal()+1) \n",
    "    \n",
    "    t = np.arange(date(1982,1,1).toordinal(),date(2018,12,31).toordinal()+1)\n",
    "    dates = [date.fromordinal(tt.astype(int)) for tt in t]\n",
    "    \n",
    "    trial.coords['time'] = dates\n",
    "\n",
    "    return trial"
   ]
  },
  {
   "cell_type": "code",
   "execution_count": 20,
   "metadata": {},
   "outputs": [],
   "source": [
    "new_coastal = fix(coastal)  # new_coastal will now have the same shape as anom "
   ]
  },
  {
   "cell_type": "code",
   "execution_count": 21,
   "metadata": {},
   "outputs": [],
   "source": [
    "coast_grids = new_coastal.where(new_coastal != 0)"
   ]
  },
  {
   "cell_type": "code",
   "execution_count": 23,
   "metadata": {},
   "outputs": [],
   "source": [
    "coast_sel_stacked = coast_grids.stack(latlon=('latitude', 'longitude')).dropna(dim='latlon')\n",
    "# this stacks all lat, lon pairs corresponding to the coastal cells "
   ]
  },
  {
   "cell_type": "markdown",
   "metadata": {},
   "source": [
    "## Severity datasets"
   ]
  },
  {
   "cell_type": "code",
   "execution_count": 25,
   "metadata": {},
   "outputs": [],
   "source": [
    "# thw severity \n",
    "thw = xr.open_dataset('/g/data/e14/cp3790/Charuni/NCI/ERA5-T2M/thw-events-new.nc').sel(time=slice('1982', '2018'), longitude=slice(113.0, 154.0), latitude=slice(-10.0, -44.0))\n",
    "anom = thw['severity']"
   ]
  },
  {
   "cell_type": "code",
   "execution_count": 26,
   "metadata": {},
   "outputs": [
    {
     "name": "stderr",
     "output_type": "stream",
     "text": [
      "/g/data3/hh5/public/apps/miniconda3/envs/analysis3-20.10/lib/python3.8/site-packages/xarray/coding/times.py:83: SerializationWarning: Ambiguous reference date string: 01-01-01 00:00:00. The first value is assumed to be the year hence will be padded with zeros to remove the ambiguity (the padded reference date string is: 0001-01-01 00:00:00). To remove this message, remove the ambiguity by padding your reference date strings with zeros.\n",
      "  warnings.warn(warning_msg, SerializationWarning)\n"
     ]
    }
   ],
   "source": [
    "# mhw severity \n",
    "files = sorted(glob.glob('/g/data/e14/cp3790/Charuni/MHW-updated/mhw_severity.pc90.*.nc'))\n",
    "mhw = xr.open_mfdataset(files, combine='by_coords').sel(time=slice('1982', '2018'), lon=slice(113.0, 154.0), lat=slice(-44.0, -10.0))"
   ]
  },
  {
   "cell_type": "markdown",
   "metadata": {},
   "source": [
    "Using the stacked latlon locations of coastal cells to find the location of the neighbouring cells in the ssta dataset, which I now call 'localcells'"
   ]
  },
  {
   "cell_type": "code",
   "execution_count": 29,
   "metadata": {},
   "outputs": [],
   "source": [
    "sev = mhw.severity"
   ]
  },
  {
   "cell_type": "code",
   "execution_count": 30,
   "metadata": {},
   "outputs": [],
   "source": [
    "# the mhw dataset has a resolution of 0.25 degrees; plus/minus 0.3 ensures that the selections overlaps, accounting for\n",
    "# any shift between the two grids \n",
    "\n",
    "for (lat, lon) in coast_sel_stacked.latlon.values:\n",
    "    centre = sev.sel(lat=lat, lon=lon, method='nearest')\n",
    "    centre_lat = centre.lat.values\n",
    "    centre_lon = centre.lon.values\n",
    "    localcells = sev.sel(lat=slice(centre_lat-0.3,centre_lat+0.3), lon=slice(centre_lon-0.3,centre_lon+0.3))\n",
    "   "
   ]
  },
  {
   "cell_type": "markdown",
   "metadata": {},
   "source": [
    "Using the stacked latlon locations of coastal cells to find the location of the corresponding cells in the (land) anom dataset, which I now call 'landcells'"
   ]
  },
  {
   "cell_type": "code",
   "execution_count": 31,
   "metadata": {},
   "outputs": [],
   "source": [
    "for (lat, lon) in coast_sel_stacked.latlon.values:\n",
    "    centre = anom.sel(latitude=lat, longitude=lon, method='nearest')\n",
    "    centre_lat = centre.latitude.values\n",
    "    centre_lon = centre.longitude.values\n",
    "    landcells = anom.sel(latitude=centre_lat, longitude=centre_lon)\n",
    "    "
   ]
  },
  {
   "cell_type": "code",
   "execution_count": 32,
   "metadata": {},
   "outputs": [],
   "source": [
    "# Creating data arrays for all land cells and corresponding local cells. \n",
    "\n",
    "series1 = []\n",
    "series2 = []\n",
    "for (lat, lon) in coast_sel_stacked.latlon.values:\n",
    "    cen = anom.sel(latitude=lat, longitude=lon, method='nearest')\n",
    "    cen_lat = cen.latitude.values\n",
    "    cen_lon = cen.longitude.values\n",
    "    landcells = anom.sel(latitude=cen_lat, longitude=cen_lon)\n",
    "    centre = sev.sel(lat=lat, lon=lon, method='nearest')\n",
    "    centre_lat = centre.lat.values\n",
    "    centre_lon = centre.lon.values\n",
    "    localcells = sev.sel(lat=slice(centre_lat-0.3,centre_lat+0.3), lon=slice(centre_lon-0.3,centre_lon+0.3))\n",
    "    series1.append(landcells)\n",
    "    series2.append(localcells.mean(dim=('lat', 'lon')))"
   ]
  },
  {
   "cell_type": "code",
   "execution_count": null,
   "metadata": {},
   "outputs": [],
   "source": [
    "sata_ds = xr.concat(series1, 'ncell')"
   ]
  },
  {
   "cell_type": "code",
   "execution_count": 19,
   "metadata": {},
   "outputs": [],
   "source": [
    "ssta_ds = xr.concat(series2, 'ncell').assign_coords(longitude=sata_ds.longitude, latitude=sata_ds.latitude)\n",
    "\n",
    "# the ocean dataset is now assigned the same lat lon values as the coastal points "
   ]
  },
  {
   "cell_type": "code",
   "execution_count": null,
   "metadata": {},
   "outputs": [],
   "source": [
    "# creating a new data array 'new_coastal' which is like 'anom' and we fill it with values from sata_ds\n",
    "\n",
    "new_coastal = xr.full_like(anom, fill_value=np.nan)\n",
    "for d in sata_ds:\n",
    "    new_coastal.loc[dict(latitude=d.latitude, longitude=d.longitude)] = d.values"
   ]
  },
  {
   "cell_type": "code",
   "execution_count": null,
   "metadata": {},
   "outputs": [],
   "source": [
    "# I have said anom for the reference object as I want the ssta values also to be saved in the land coordinates\n",
    "\n",
    "new_ocean = xr.full_like(anom, fill_value=np.nan)\n",
    "for d in ssta_ds:\n",
    "    new_ocean.loc[dict(latitude=d.latitude, longitude=d.longitude)] = d.values"
   ]
  },
  {
   "cell_type": "code",
   "execution_count": 23,
   "metadata": {},
   "outputs": [],
   "source": [
    "new_coastal.to_netcdf('aus-coastal-sev.nc')"
   ]
  },
  {
   "cell_type": "code",
   "execution_count": 22,
   "metadata": {},
   "outputs": [],
   "source": [
    "new_ocean.to_netcdf('aus-ocean-sev-2.nc')"
   ]
  },
  {
   "cell_type": "code",
   "execution_count": 3,
   "metadata": {},
   "outputs": [],
   "source": [
    "aus_coastal = xr.open_dataarray('/g/data/e14/cp3790/Charuni/Tasmania/aus-coastal-sev.nc')"
   ]
  },
  {
   "cell_type": "code",
   "execution_count": 4,
   "metadata": {},
   "outputs": [],
   "source": [
    "aus_ocean = xr.open_dataarray('/g/data/e14/cp3790/Charuni/Tasmania/aus-ocean-sev-2.nc')"
   ]
  },
  {
   "cell_type": "code",
   "execution_count": 26,
   "metadata": {},
   "outputs": [
    {
     "data": {
      "text/plain": [
       "<matplotlib.collections.QuadMesh at 0x7f7c0481e3d0>"
      ]
     },
     "execution_count": 26,
     "metadata": {},
     "output_type": "execute_result"
    },
    {
     "data": {
      "image/png": "[encoded data removed]",
      "text/plain": [
       "<Figure size 432x288 with 2 Axes>"
      ]
     },
     "metadata": {
      "needs_background": "light"
     },
     "output_type": "display_data"
    }
   ],
   "source": [
    "aus_ocean.isel(time=0).plot()"
   ]
  },
  {
   "cell_type": "code",
   "execution_count": 7,
   "metadata": {},
   "outputs": [
    {
     "data": {
      "text/plain": [
       "<matplotlib.collections.QuadMesh at 0x7fbfb4687510>"
      ]
     },
     "execution_count": 7,
     "metadata": {},
     "output_type": "execute_result"
    },
    {
     "data": {
      "image/png": "[encoded data removed]",
      "text/plain": [
       "<Figure size 432x288 with 2 Axes>"
      ]
     },
     "metadata": {
      "needs_background": "light"
     },
     "output_type": "display_data"
    }
   ],
   "source": [
    "aus_coastal.isel(time=0).plot()"
   ]
  }
 ],
 "metadata": {
  "hide_input": false,
  "kernelspec": {
   "display_name": "Python 3",
   "language": "python",
   "name": "python3"
  },
  "language_info": {
   "codemirror_mode": {
    "name": "ipython",
    "version": 3
   },
   "file_extension": ".py",
   "mimetype": "text/x-python",
   "name": "python",
   "nbconvert_exporter": "python",
   "pygments_lexer": "ipython3",
   "version": "3.8.6"
  },
  "varInspector": {
   "cols": {
    "lenName": 16,
    "lenType": 16,
    "lenVar": 40
   },
   "kernels_config": {
    "python": {
     "delete_cmd_postfix": "",
     "delete_cmd_prefix": "del ",
     "library": "var_list.py",
     "varRefreshCmd": "print(var_dic_list())"
    },
    "r": {
     "delete_cmd_postfix": ") ",
     "delete_cmd_prefix": "rm(",
     "library": "var_list.r",
     "varRefreshCmd": "cat(var_dic_list()) "
    }
   },
   "position": {
    "height": "280.85px",
    "left": "1155px",
    "right": "20px",
    "top": "119px",
    "width": "345px"
   },
   "types_to_exclude": [
    "module",
    "function",
    "builtin_function_or_method",
    "instance",
    "_Feature"
   ],
   "window_display": false
  }
 },
 "nbformat": 4,
 "nbformat_minor": 4
}
