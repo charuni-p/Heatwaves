{
 "cells": [
  {
   "cell_type": "markdown",
   "metadata": {},
   "source": [
    "## Importing packages and defining functions"
   ]
  },
  {
   "cell_type": "code",
   "execution_count": 1,
   "metadata": {},
   "outputs": [],
   "source": [
    "from dask.distributed import LocalCluster, Client\n",
    "import dask.array\n",
    "import datetime\n",
    "from datetime import date \n",
    "from datetime import datetime\n",
    "import glob\n",
    "import numpy as np\n",
    "import scipy.ndimage as ndimage\n",
    "from scipy.ndimage.measurements import label, find_objects\n",
    "import xarray as xr"
   ]
  },
  {
   "cell_type": "code",
   "execution_count": 2,
   "metadata": {},
   "outputs": [
    {
     "ename": "KeyError",
     "evalue": "'PBS_NCPUS'",
     "output_type": "error",
     "traceback": [
      "\u001b[0;31m---------------------------------------------------------------------------\u001b[0m",
      "\u001b[0;31mKeyError\u001b[0m                                  Traceback (most recent call last)",
      "\u001b[0;32m<ipython-input-2-a3624a3d0f94>\u001b[0m in \u001b[0;36m<module>\u001b[0;34m\u001b[0m\n\u001b[1;32m      8\u001b[0m \u001b[0;32mexcept\u001b[0m \u001b[0mNameError\u001b[0m\u001b[0;34m:\u001b[0m\u001b[0;34m\u001b[0m\u001b[0;34m\u001b[0m\u001b[0m\n\u001b[1;32m      9\u001b[0m     c = dask.distributed.Client(\n\u001b[0;32m---> 10\u001b[0;31m         \u001b[0mn_workers\u001b[0m\u001b[0;34m=\u001b[0m\u001b[0mint\u001b[0m\u001b[0;34m(\u001b[0m\u001b[0mos\u001b[0m\u001b[0;34m.\u001b[0m\u001b[0menviron\u001b[0m\u001b[0;34m[\u001b[0m\u001b[0;34m'PBS_NCPUS'\u001b[0m\u001b[0;34m]\u001b[0m\u001b[0;34m)\u001b[0m\u001b[0;34m//\u001b[0m\u001b[0mthreads_per_worker\u001b[0m\u001b[0;34m,\u001b[0m\u001b[0;34m\u001b[0m\u001b[0;34m\u001b[0m\u001b[0m\n\u001b[0m\u001b[1;32m     11\u001b[0m         \u001b[0mthreads_per_worker\u001b[0m\u001b[0;34m=\u001b[0m\u001b[0mthreads_per_worker\u001b[0m\u001b[0;34m,\u001b[0m\u001b[0;34m\u001b[0m\u001b[0;34m\u001b[0m\u001b[0m\n\u001b[1;32m     12\u001b[0m         \u001b[0mmemory_limit\u001b[0m\u001b[0;34m=\u001b[0m\u001b[0;34mf'{4*threads_per_worker}gb'\u001b[0m\u001b[0;34m,\u001b[0m\u001b[0;34m\u001b[0m\u001b[0;34m\u001b[0m\u001b[0m\n",
      "\u001b[0;32m/g/data3/hh5/public/apps/miniconda3/envs/analysis3-19.10/lib/python3.6/os.py\u001b[0m in \u001b[0;36m__getitem__\u001b[0;34m(self, key)\u001b[0m\n\u001b[1;32m    667\u001b[0m         \u001b[0;32mexcept\u001b[0m \u001b[0mKeyError\u001b[0m\u001b[0;34m:\u001b[0m\u001b[0;34m\u001b[0m\u001b[0;34m\u001b[0m\u001b[0m\n\u001b[1;32m    668\u001b[0m             \u001b[0;31m# raise KeyError with the original key value\u001b[0m\u001b[0;34m\u001b[0m\u001b[0;34m\u001b[0m\u001b[0;34m\u001b[0m\u001b[0m\n\u001b[0;32m--> 669\u001b[0;31m             \u001b[0;32mraise\u001b[0m \u001b[0mKeyError\u001b[0m\u001b[0;34m(\u001b[0m\u001b[0mkey\u001b[0m\u001b[0;34m)\u001b[0m \u001b[0;32mfrom\u001b[0m \u001b[0;32mNone\u001b[0m\u001b[0;34m\u001b[0m\u001b[0;34m\u001b[0m\u001b[0m\n\u001b[0m\u001b[1;32m    670\u001b[0m         \u001b[0;32mreturn\u001b[0m \u001b[0mself\u001b[0m\u001b[0;34m.\u001b[0m\u001b[0mdecodevalue\u001b[0m\u001b[0;34m(\u001b[0m\u001b[0mvalue\u001b[0m\u001b[0;34m)\u001b[0m\u001b[0;34m\u001b[0m\u001b[0;34m\u001b[0m\u001b[0m\n\u001b[1;32m    671\u001b[0m \u001b[0;34m\u001b[0m\u001b[0m\n",
      "\u001b[0;31mKeyError\u001b[0m: 'PBS_NCPUS'"
     ]
    }
   ],
   "source": [
    "# This is for running on Gadi\n",
    "\n",
    "import os\n",
    "import dask.distributed\n",
    "threads_per_worker = 1\n",
    "try:\n",
    "    c # Already running\n",
    "except NameError:\n",
    "    c = dask.distributed.Client(\n",
    "        n_workers=int(os.environ['PBS_NCPUS'])//threads_per_worker,\n",
    "        threads_per_worker=threads_per_worker,\n",
    "        memory_limit=f'{4*threads_per_worker}gb',\n",
    "        local_directory=os.path.join(os.environ['PBS_JOBFS'],\n",
    "                                     'dask-worker-space')\n",
    "    )\n",
    "c"
   ]
  },
  {
   "cell_type": "code",
   "execution_count": 3,
   "metadata": {},
   "outputs": [],
   "source": [
    "# This function will make the clim and thresh repeatable so that the shapes of clim, thresh and dailytmax are equal.\n",
    "\n",
    "def fix(ds):\n",
    "    # This was the code fixed to make the clim and thresh repeatable so that the shapes of clim, thresh and obs are equal.\n",
    "    trial = ds\n",
    "    i = 0\n",
    "    while i < 37:  # <-- Here, 37 corresponds to the number of years in obs dataset \n",
    "        trial = xr.concat([trial, ds], 'dayofyear')\n",
    "        i+=1\n",
    "    trial = trial.isel(dayofyear = slice(0,13514))\n",
    "    # to specify the dates/time \n",
    "    trial.coords['dayofyear'] = np.arange(date(1982,1,1).toordinal(),date(2018,12,31).toordinal()+1) \n",
    "    \n",
    "    # This code was used to rename the dayofyear dimension to time.\n",
    "    trial['time'] = trial['dayofyear']\n",
    "    del trial['dayofyear']\n",
    "    trial = trial.rename({'dayofyear': 'time'})\n",
    "    \n",
    "    t = np.arange(date(1982,1,1).toordinal(),date(2018,12,31).toordinal()+1)\n",
    "    dates = [date.fromordinal(tt.astype(int)) for tt in t]\n",
    "    \n",
    "    trial.coords['time'] = dates\n",
    "\n",
    "    return trial"
   ]
  },
  {
   "cell_type": "code",
   "execution_count": 4,
   "metadata": {},
   "outputs": [],
   "source": [
    "def calc_severity(data, new_climatology, new_threshold):\n",
    "\n",
    "    threshold_anomaly = new_threshold - new_climatology\n",
    "    \n",
    "    # Ignore divide by zero errors\n",
    "    nperr = np.seterr(divide='ignore')\n",
    "\n",
    "    def calc_severity_helper(da, *args, **kwargs):\n",
    "        if da.size == 0:\n",
    "            return da\n",
    "    \n",
    "        coords = {}\n",
    "        for k,v in obs_aus_tmax.coords.items():\n",
    "            if k == 'time':\n",
    "                continue\n",
    "            coords[k] = slice(v[0], v[-1])\n",
    "    \n",
    "        anomaly = da - new_climatology.sel(coords)\n",
    "        severity = anomaly / threshold_anomaly.sel(coords)\n",
    "        return severity\n",
    "\n",
    "    data = data.chunk({'time': None})\n",
    "    r = data.map_blocks(calc_severity_helper)\n",
    "    \n",
    "    np.seterr(**nperr)\n",
    "    \n",
    "    return r"
   ]
  },
  {
   "cell_type": "code",
   "execution_count": 5,
   "metadata": {},
   "outputs": [],
   "source": [
    "def atleastn(da, n, dim='time'):\n",
    "    \"\"\"\n",
    "    Return values with at least n contiguous points around them\n",
    "    \"\"\"\n",
    "\n",
    "    def atleastn_helper(array, n, axis):\n",
    "        count = np.zeros_like(np.take(array, 0,axis=axis), dtype='i4')\n",
    "        mask = np.empty_like(np.take(array, 0,axis=axis), dtype='bool')\n",
    "        mask = True\n",
    "    \n",
    "        for i in range(array.shape[axis]):\n",
    "            array_slice = np.take(array, i, axis=axis)\n",
    "        \n",
    "            # Increase the count when there is a valid value, reset when there is not\n",
    "            count = np.where(array_slice, count + 1, 0)\n",
    "        \n",
    "            # Add new points when the contiguous count exceeds the threshold\n",
    "            mask = np.where(count >= n, False, mask)\n",
    "        \n",
    "        out_slice = np.take(array, array.shape[axis]//2, axis=axis)\n",
    "        return np.ma.masked_where(mask, out_slice)\n",
    "    \n",
    "    def atleastn_dask_helper(array, axis, **kwargs):\n",
    "        r = dask.array.map_blocks(atleastn_helper, array, drop_axis=axis, axis=axis, n=n, dtype=array.dtype)\n",
    "        return r\n",
    "    \n",
    "    if isinstance(da.data, dask.array.Array):\n",
    "        reducer = atleastn_dask_helper\n",
    "    else:\n",
    "        reducer = atleastn_helper\n",
    "        \n",
    "    return da.rolling({dim: n*2-1}, center=True, min_periods=n).reduce(reducer, n=n)"
   ]
  },
  {
   "cell_type": "markdown",
   "metadata": {},
   "source": [
    "## Opening files "
   ]
  },
  {
   "cell_type": "code",
   "execution_count": 6,
   "metadata": {},
   "outputs": [],
   "source": [
    "mean_climatology = xr.open_dataarray('/g/data/e14/cp3790/Charuni/climatology-australia.nc')\n",
    "threshold = xr.open_dataarray('/g/data/e14/cp3790/Charuni/threshold-australia.nc')"
   ]
  },
  {
   "cell_type": "code",
   "execution_count": 7,
   "metadata": {},
   "outputs": [],
   "source": [
    "files = sorted(glob.glob('/g/data/e14/cp3790/Charuni/ERA5-new/era5_dailytmax_*.nc'))\n",
    "\n",
    "obs_aus = (xr.open_mfdataset(files, combine='nested', concat_dim='time', chunks={'latitude': 10})\n",
    "           .sel(time=slice('1982', '2018'), longitude=slice(113, 154), latitude=slice(-10, -44)))\n",
    "obs_aus_tmax = obs_aus[\"dmax\"]\n",
    "obs_aus_tmax.attrs['units'] = 'deg C'"
   ]
  },
  {
   "cell_type": "markdown",
   "metadata": {},
   "source": [
    "Making the mean climatology and 90th percentile climatology (threshold) repeatable so that their sizes are compatible with the size of the daily tmax data"
   ]
  },
  {
   "cell_type": "code",
   "execution_count": 8,
   "metadata": {},
   "outputs": [],
   "source": [
    "new_climatology = fix(mean_climatology) #this is now the same length as dailytmax"
   ]
  },
  {
   "cell_type": "code",
   "execution_count": 9,
   "metadata": {},
   "outputs": [],
   "source": [
    "new_threshold = fix(threshold) #this is now the same length as dailytmax"
   ]
  },
  {
   "cell_type": "markdown",
   "metadata": {},
   "source": [
    "## Calculations "
   ]
  },
  {
   "cell_type": "markdown",
   "metadata": {},
   "source": [
    "Calculating severity using 'map_blocks()', which enables the severity calculation to run on each timeseries chunk, facilitating parallel computation "
   ]
  },
  {
   "cell_type": "code",
   "execution_count": 10,
   "metadata": {},
   "outputs": [],
   "source": [
    "thw_severity = calc_severity(obs_aus_tmax, new_climatology, new_threshold)"
   ]
  },
  {
   "cell_type": "code",
   "execution_count": 11,
   "metadata": {},
   "outputs": [
    {
     "name": "stdout",
     "output_type": "stream",
     "text": [
      "CPU times: user 117 ms, sys: 63 ms, total: 180 ms\n",
      "Wall time: 360 ms\n"
     ]
    }
   ],
   "source": [
    "%%time\n",
    "%matplotlib inline\n",
    "#hws_preDur = xarray.open_dataset('/scratch/w35/saw562/helpdesk/severity.nc', chunks={'time': 100, 'latitude': 100, 'longitude': 100})\n",
    "\n",
    "candidates = thw_severity.where(thw_severity > 0) #identifying instances where the severity is a positive value"
   ]
  },
  {
   "cell_type": "markdown",
   "metadata": {},
   "source": [
    "Masking out points where there are less than 3 contiguous points in the time dimension"
   ]
  },
  {
   "cell_type": "code",
   "execution_count": 12,
   "metadata": {},
   "outputs": [
    {
     "name": "stdout",
     "output_type": "stream",
     "text": [
      "CPU times: user 37.2 s, sys: 6min 37s, total: 7min 14s\n",
      "Wall time: 6min 34s\n"
     ]
    },
    {
     "data": {
      "text/plain": [
       "<matplotlib.collections.QuadMesh at 0x7f04244dee10>"
      ]
     },
     "execution_count": 12,
     "metadata": {},
     "output_type": "execute_result"
    },
    {
     "data": {
      "image/png": "[encoded data removed]",
      "text/plain": [
       "<Figure size 432x288 with 2 Axes>"
      ]
     },
     "metadata": {
      "needs_background": "light"
     },
     "output_type": "display_data"
    }
   ],
   "source": [
    "%%time\n",
    "\n",
    "atleastn(candidates, n=3).isel(time=5000).plot()"
   ]
  },
  {
   "cell_type": "markdown",
   "metadata": {},
   "source": [
    "## Saving to netcdf"
   ]
  },
  {
   "cell_type": "code",
   "execution_count": 13,
   "metadata": {},
   "outputs": [
    {
     "name": "stdout",
     "output_type": "stream",
     "text": [
      "CPU times: user 4min 16s, sys: 3min 5s, total: 7min 21s\n",
      "Wall time: 6min 20s\n"
     ]
    }
   ],
   "source": [
    "%%time\n",
    "\n",
    "# Save to a file\n",
    "oscar = atleastn(candidates, n=3)\n",
    "\n",
    "xr.Dataset({'severity': oscar}).to_netcdf('/g/data/e14/cp3790/Charuni/filtered_severity_test.nc',\n",
    "                                              encoding={'severity': \n",
    "                                                        {'chunksizes': (100, oscar.shape[1], oscar.shape[2]),\n",
    "                                                         'zlib': True,\n",
    "                                                         'shuffle': True, \n",
    "                                                         'complevel': 2}})                                      "
   ]
  },
  {
   "cell_type": "code",
   "execution_count": null,
   "metadata": {},
   "outputs": [],
   "source": []
  }
 ],
 "metadata": {
  "hide_input": false,
  "kernelspec": {
   "display_name": "Python 3",
   "language": "python",
   "name": "python3"
  },
  "language_info": {
   "codemirror_mode": {
    "name": "ipython",
    "version": 3
   },
   "file_extension": ".py",
   "mimetype": "text/x-python",
   "name": "python",
   "nbconvert_exporter": "python",
   "pygments_lexer": "ipython3",
   "version": "3.6.7"
  },
  "varInspector": {
   "cols": {
    "lenName": 16,
    "lenType": 16,
    "lenVar": 40
   },
   "kernels_config": {
    "python": {
     "delete_cmd_postfix": "",
     "delete_cmd_prefix": "del ",
     "library": "var_list.py",
     "varRefreshCmd": "print(var_dic_list())"
    },
    "r": {
     "delete_cmd_postfix": ") ",
     "delete_cmd_prefix": "rm(",
     "library": "var_list.r",
     "varRefreshCmd": "cat(var_dic_list()) "
    }
   },
   "types_to_exclude": [
    "module",
    "function",
    "builtin_function_or_method",
    "instance",
    "_Feature"
   ],
   "window_display": false
  }
 },
 "nbformat": 4,
 "nbformat_minor": 2
}
